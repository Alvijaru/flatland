{
  "nbformat": 4,
  "nbformat_minor": 0,
  "metadata": {
    "kernelspec": {
      "display_name": "Python 3",
      "language": "python",
      "name": "python3"
    },
    "language_info": {
      "codemirror_mode": {
        "name": "ipython",
        "version": 3
      },
      "file_extension": ".py",
      "mimetype": "text/x-python",
      "name": "python",
      "nbconvert_exporter": "python",
      "pygments_lexer": "ipython3",
      "version": "3.8.3"
    },
    "colab": {
      "name": "Flatland_project_1st (4).ipynb",
      "provenance": []
    },
    "accelerator": "GPU"
  },
  "cells": [
    {
      "cell_type": "code",
      "metadata": {
        "id": "P3pllBeI9OKJ"
      },
      "source": [
        "%matplotlib inline\n",
        "\n",
        "import os\n",
        "import time\n",
        "import numpy as np\n",
        "import pandas as pd\n",
        "import matplotlib.pyplot as plt\n",
        "import tensorflow.keras as keras\n",
        "from tensorflow.keras.layers import Dense, Input, Flatten, Conv2D, BatchNormalization, \\\n",
        "                                    Activation, Dropout, MaxPooling2D\n",
        "from tensorflow.keras.models import Sequential\n",
        "from tensorflow.keras.optimizers import Adam\n",
        "from tensorflow.keras.callbacks import TensorBoard\n",
        "from IPython.display import YouTubeVideo\n",
        "from PIL import Image"
      ],
      "execution_count": null,
      "outputs": []
    },
    {
      "cell_type": "code",
      "metadata": {
        "colab": {
          "base_uri": "https://localhost:8080/"
        },
        "id": "bbENDCTq9OKO",
        "outputId": "d4e57f94-a5fe-414c-a76c-2b48927f49c3"
      },
      "source": [
        "%load_ext tensorboard"
      ],
      "execution_count": null,
      "outputs": [
        {
          "output_type": "stream",
          "text": [
            "The tensorboard extension is already loaded. To reload it, use:\n",
            "  %reload_ext tensorboard\n"
          ],
          "name": "stdout"
        }
      ]
    },
    {
      "cell_type": "code",
      "metadata": {
        "id": "AllXDY5l9OKO"
      },
      "source": [
        "from datetime import datetime"
      ],
      "execution_count": null,
      "outputs": []
    },
    {
      "cell_type": "code",
      "metadata": {
        "id": "YJbKJPDZ9OKP"
      },
      "source": [
        "import gzip\n",
        "import pickle\n",
        "\n",
        "X, y = pickle.load(gzip.open('/content/flatland_train.data', 'rb'))\n",
        "y[y != 0] -= 2\n",
        "X = X.reshape(X.shape[0], 50, 50, 1) / 255.0"
      ],
      "execution_count": null,
      "outputs": []
    },
    {
      "cell_type": "code",
      "metadata": {
        "colab": {
          "base_uri": "https://localhost:8080/"
        },
        "id": "ZRkRbMLz9OKP",
        "outputId": "7642ebe6-c476-4a5b-ac7b-495f3d68e718"
      },
      "source": [
        "NAME = \"model\".format(int(time.time()))\n",
        "model = keras.models.Sequential()\n",
        "model.add(Conv2D(32, kernel_size=(3, 3), input_shape=[50, 50, 1]))\n",
        "model.add(Conv2D(32, kernel_size=(3, 3), activation='relu'))\n",
        "model.add(MaxPooling2D(pool_size=(2, 2)))\n",
        "model.add(Conv2D(32, kernel_size=(3, 3), activation='relu'))\n",
        "model.add(MaxPooling2D(pool_size=(2, 2)))\n",
        "model.add(Flatten())\n",
        "model.add(Dense(128, activation='relu'))\n",
        "model.add(Dropout(0.2))\n",
        "model.add(Dense(5, activation='softmax'))\n",
        "\n",
        "model.compile(loss=\"sparse_categorical_crossentropy\",\n",
        "              optimizer=keras.optimizers.Adam(),\n",
        "              metrics=[\"accuracy\"])\n",
        "model.summary()"
      ],
      "execution_count": null,
      "outputs": [
        {
          "output_type": "stream",
          "text": [
            "Model: \"sequential_4\"\n",
            "_________________________________________________________________\n",
            "Layer (type)                 Output Shape              Param #   \n",
            "=================================================================\n",
            "conv2d_12 (Conv2D)           (None, 48, 48, 32)        320       \n",
            "_________________________________________________________________\n",
            "conv2d_13 (Conv2D)           (None, 46, 46, 32)        9248      \n",
            "_________________________________________________________________\n",
            "max_pooling2d_8 (MaxPooling2 (None, 23, 23, 32)        0         \n",
            "_________________________________________________________________\n",
            "conv2d_14 (Conv2D)           (None, 21, 21, 32)        9248      \n",
            "_________________________________________________________________\n",
            "max_pooling2d_9 (MaxPooling2 (None, 10, 10, 32)        0         \n",
            "_________________________________________________________________\n",
            "flatten_4 (Flatten)          (None, 3200)              0         \n",
            "_________________________________________________________________\n",
            "dense_8 (Dense)              (None, 128)               409728    \n",
            "_________________________________________________________________\n",
            "dropout_4 (Dropout)          (None, 128)               0         \n",
            "_________________________________________________________________\n",
            "dense_9 (Dense)              (None, 5)                 645       \n",
            "=================================================================\n",
            "Total params: 429,189\n",
            "Trainable params: 429,189\n",
            "Non-trainable params: 0\n",
            "_________________________________________________________________\n"
          ],
          "name": "stdout"
        }
      ]
    },
    {
      "cell_type": "code",
      "metadata": {
        "colab": {
          "base_uri": "https://localhost:8080/"
        },
        "id": "MjCe07VF9OKQ",
        "outputId": "6bf76e15-e2df-4107-a125-da4f9c31f976"
      },
      "source": [
        "loss = model.fit(X, y, epochs=10, batch_size=64, validation_split=0.2)"
      ],
      "execution_count": null,
      "outputs": [
        {
          "output_type": "stream",
          "text": [
            "Epoch 1/10\n",
            "  1/125 [..............................] - ETA: 1s - loss: 0.0019 - accuracy: 1.0000WARNING:tensorflow:Callbacks method `on_train_batch_end` is slow compared to the batch time (batch time: 0.0066s vs `on_train_batch_end` time: 0.0152s). Check your callbacks.\n",
            "125/125 [==============================] - 2s 17ms/step - loss: 0.0130 - accuracy: 0.9954 - val_loss: 0.0352 - val_accuracy: 0.9880\n",
            "Epoch 2/10\n",
            "125/125 [==============================] - 2s 16ms/step - loss: 0.0120 - accuracy: 0.9961 - val_loss: 0.0243 - val_accuracy: 0.9910\n",
            "Epoch 3/10\n",
            "125/125 [==============================] - 2s 16ms/step - loss: 0.0126 - accuracy: 0.9967 - val_loss: 0.0338 - val_accuracy: 0.9875\n",
            "Epoch 4/10\n",
            "125/125 [==============================] - 2s 16ms/step - loss: 0.0145 - accuracy: 0.9949 - val_loss: 0.0178 - val_accuracy: 0.9940\n",
            "Epoch 5/10\n",
            "125/125 [==============================] - 2s 16ms/step - loss: 0.0100 - accuracy: 0.9971 - val_loss: 0.0249 - val_accuracy: 0.9930\n",
            "Epoch 6/10\n",
            "125/125 [==============================] - 2s 16ms/step - loss: 0.0064 - accuracy: 0.9979 - val_loss: 0.0296 - val_accuracy: 0.9905\n",
            "Epoch 7/10\n",
            "125/125 [==============================] - 2s 16ms/step - loss: 0.0107 - accuracy: 0.9969 - val_loss: 0.0377 - val_accuracy: 0.9905\n",
            "Epoch 8/10\n",
            "125/125 [==============================] - 2s 16ms/step - loss: 0.0125 - accuracy: 0.9958 - val_loss: 0.0256 - val_accuracy: 0.9930\n",
            "Epoch 9/10\n",
            "125/125 [==============================] - 2s 16ms/step - loss: 0.0081 - accuracy: 0.9979 - val_loss: 0.0664 - val_accuracy: 0.9785\n",
            "Epoch 10/10\n",
            "125/125 [==============================] - 2s 16ms/step - loss: 0.0207 - accuracy: 0.9916 - val_loss: 0.0275 - val_accuracy: 0.9920\n"
          ],
          "name": "stdout"
        }
      ]
    },
    {
      "cell_type": "code",
      "metadata": {
        "scrolled": true,
        "colab": {
          "base_uri": "https://localhost:8080/",
          "height": 283
        },
        "id": "ZzmjU5Yw9OKR",
        "outputId": "e42ef2ee-9c84-42af-e677-6eb4368e7b4d"
      },
      "source": [
        "pd.DataFrame(loss.history).plot()"
      ],
      "execution_count": null,
      "outputs": [
        {
          "output_type": "execute_result",
          "data": {
            "text/plain": [
              "<matplotlib.axes._subplots.AxesSubplot at 0x7ff184f2b780>"
            ]
          },
          "metadata": {
            "tags": []
          },
          "execution_count": 25
        },
        {
          "output_type": "display_data",
          "data": {
            "image/png": "[encoded data removed]",
            "text/plain": [
              "<Figure size 432x288 with 1 Axes>"
            ]
          },
          "metadata": {
            "tags": [],
            "needs_background": "light"
          }
        }
      ]
    },
    {
      "cell_type": "code",
      "metadata": {
        "colab": {
          "base_uri": "https://localhost:8080/"
        },
        "id": "KDWov_Hf9OKS",
        "outputId": "e1408835-214d-4e86-cf43-69b50ba52701"
      },
      "source": [
        "pred = model.predict(X).argmax(axis=1)\n",
        "print('Accuracy on test set - {0:.02%}'.format((pred == y).mean()))"
      ],
      "execution_count": null,
      "outputs": [
        {
          "output_type": "stream",
          "text": [
            "Accuracy on test set - 99.79%\n"
          ],
          "name": "stdout"
        }
      ]
    },
    {
      "cell_type": "code",
      "metadata": {
        "id": "_JaDj6Fy9OKS"
      },
      "source": [
        "model.save('model.h5')"
      ],
      "execution_count": null,
      "outputs": []
    },
    {
      "cell_type": "code",
      "metadata": {
        "colab": {
          "base_uri": "https://localhost:8080/",
          "height": 17
        },
        "id": "9eR8eeHUoJ-v",
        "outputId": "efc9a15e-a237-49c7-f11a-cab273fc77d2"
      },
      "source": [
        "from google.colab import files\n",
        "files.download('model.h5')"
      ],
      "execution_count": null,
      "outputs": [
        {
          "output_type": "display_data",
          "data": {
            "application/javascript": [
              "\n",
              "    async function download(id, filename, size) {\n",
              "      if (!google.colab.kernel.accessAllowed) {\n",
              "        return;\n",
              "      }\n",
              "      const div = document.createElement('div');\n",
              "      const label = document.createElement('label');\n",
              "      label.textContent = `Downloading \"${filename}\": `;\n",
              "      div.appendChild(label);\n",
              "      const progress = document.createElement('progress');\n",
              "      progress.max = size;\n",
              "      div.appendChild(progress);\n",
              "      document.body.appendChild(div);\n",
              "\n",
              "      const buffers = [];\n",
              "      let downloaded = 0;\n",
              "\n",
              "      const channel = await google.colab.kernel.comms.open(id);\n",
              "      // Send a message to notify the kernel that we're ready.\n",
              "      channel.send({})\n",
              "\n",
              "      for await (const message of channel.messages) {\n",
              "        // Send a message to notify the kernel that we're ready.\n",
              "        channel.send({})\n",
              "        if (message.buffers) {\n",
              "          for (const buffer of message.buffers) {\n",
              "            buffers.push(buffer);\n",
              "            downloaded += buffer.byteLength;\n",
              "            progress.value = downloaded;\n",
              "          }\n",
              "        }\n",
              "      }\n",
              "      const blob = new Blob(buffers, {type: 'application/binary'});\n",
              "      const a = document.createElement('a');\n",
              "      a.href = window.URL.createObjectURL(blob);\n",
              "      a.download = filename;\n",
              "      div.appendChild(a);\n",
              "      a.click();\n",
              "      div.remove();\n",
              "    }\n",
              "  "
            ],
            "text/plain": [
              "<IPython.core.display.Javascript object>"
            ]
          },
          "metadata": {
            "tags": []
          }
        },
        {
          "output_type": "display_data",
          "data": {
            "application/javascript": [
              "download(\"download_30771557-c77e-47b0-8bd9-36416c2c9fdc\", \"model.h5\", 5199752)"
            ],
            "text/plain": [
              "<IPython.core.display.Javascript object>"
            ]
          },
          "metadata": {
            "tags": []
          }
        }
      ]
    },
    {
      "cell_type": "code",
      "metadata": {
        "id": "ENWV7OrR9OKS"
      },
      "source": [
        "import gzip\n",
        "import pickle\n",
        "\n",
        "def evaluate(path, model):\n",
        "    X, y = pickle.load(gzip.open(path, 'rb'))\n",
        "    y[y != 0] -= 2\n",
        "    X = X / 255.\n",
        "    acc = np.mean(model(X).numpy().argmax(axis=1) == y)\n",
        "    return acc\n",
        "\n",
        "model = keras.models.load_model('model.h5')\n",
        "evaluate('flatland_train.data', model)"
      ],
      "execution_count": null,
      "outputs": []
    },
    {
      "cell_type": "code",
      "metadata": {
        "id": "bkGzZr849OKS"
      },
      "source": [
        ""
      ],
      "execution_count": null,
      "outputs": []
    },
    {
      "cell_type": "code",
      "metadata": {
        "id": "mSZMLCnr9OKS"
      },
      "source": [
        ""
      ],
      "execution_count": null,
      "outputs": []
    }
  ]
}